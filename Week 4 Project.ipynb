{
 "cells": [
  {
   "cell_type": "markdown",
   "id": "76503a08-6251-4f2a-ae93-18fcd3f71ed1",
   "metadata": {},
   "source": [
    "# Q1 Write a Python program to check whether a string is a palindrome or not using a stack."
   ]
  },
  {
   "cell_type": "code",
   "execution_count": 4,
   "id": "983e871d-4c9e-4fd6-9370-d8b3e30d70be",
   "metadata": {},
   "outputs": [
    {
     "name": "stdout",
     "output_type": "stream",
     "text": [
      "\"LUX, DSEAF, PYTHON, SQL\" is not a palindrome.\n"
     ]
    }
   ],
   "source": [
    "def is_palindrome(input_string):\n",
    "    # Remove any non-alphanumeric characters and convert to lowercase\n",
    "    cleaned_string = ''.join(char.lower() for char in input_string if char.isalnum())\n",
    "    \n",
    "    # Check if the cleaned string is equal to its reverse\n",
    "    return cleaned_string == cleaned_string[::-1]\n",
    "\n",
    "# Test the function\n",
    "test_string = \"LUX, DSEAF, PYTHON, SQL\"\n",
    "if is_palindrome(test_string):\n",
    "    print(f'\"{test_string}\" is a palindrome.')\n",
    "else:\n",
    "    print(f'\"{test_string}\" is not a palindrome.')\n"
   ]
  },
  {
   "cell_type": "markdown",
   "id": "2f4f2778-9db5-4b45-b878-ccefcff35cdf",
   "metadata": {},
   "source": [
    "# Q2 Explain the concept of list comprehension in Python with at least three examples."
   ]
  },
  {
   "cell_type": "markdown",
   "id": "39c388af-95b2-4812-bbb9-6fa8a145e81d",
   "metadata": {},
   "source": [
    "## List comprehension is an easy to read, compact, and elegant way of creating a list from any existing iterable object. Basically, it's a simpler way to create a new list from the values in a list you already have."
   ]
  },
  {
   "cell_type": "markdown",
   "id": "52465b60-8024-493b-bb8b-ae27cde24626",
   "metadata": {},
   "source": [
    "### The basic syntax of a list comprehension is:"
   ]
  },
  {
   "cell_type": "code",
   "execution_count": null,
   "id": "083ec088-7c63-4f7d-86ac-631b48f1dc47",
   "metadata": {},
   "outputs": [],
   "source": [
    "new_list = [expression for item in iterable if condition]\n"
   ]
  },
  {
   "cell_type": "markdown",
   "id": "aacec9a5-c438-4c51-942f-73f05edbe4f1",
   "metadata": {},
   "source": [
    "### 'expression': The expression is the item or value to be added to the new list."
   ]
  },
  {
   "cell_type": "markdown",
   "id": "d3436ca6-dad3-469c-8919-b62eabbe89af",
   "metadata": {},
   "source": [
    "### 'item': The variable representing each element in the iterable."
   ]
  },
  {
   "cell_type": "markdown",
   "id": "a1e67e59-99a1-409a-adbc-d028c8b9cf18",
   "metadata": {},
   "source": [
    "### 'iterable': The collection being iterated over (e.g., a list, tuple, or range)."
   ]
  },
  {
   "cell_type": "markdown",
   "id": "f1bbf573-ce67-462a-bac3-f92da02e9793",
   "metadata": {},
   "source": [
    "### 'condition' (optional): A conditional filter that can be applied to select certain items to include in the new list."
   ]
  },
  {
   "cell_type": "markdown",
   "id": "ae8c90b5-0290-480b-a658-b5cb1d3cb7a5",
   "metadata": {},
   "source": [
    "### First Example: Filtering Even Numbers from a List"
   ]
  },
  {
   "cell_type": "code",
   "execution_count": 22,
   "id": "5a657354-a584-4ba9-9cb3-18eda39895d2",
   "metadata": {},
   "outputs": [
    {
     "name": "stdout",
     "output_type": "stream",
     "text": [
      "[22, 24, 26, 28, 210]\n"
     ]
    }
   ],
   "source": [
    "# Original list of numbers\n",
    "numbers = [21, 22, 23, 24, 25, 26, 27, 28, 29, 210]\n",
    "\n",
    "# Using list comprehension to filter even numbers\n",
    "even_numbers = [x for x in numbers if x % 2 == 0]\n",
    "print(even_numbers)\n"
   ]
  },
  {
   "cell_type": "markdown",
   "id": "875f57eb-fabf-441f-a612-f4a1e173d2f2",
   "metadata": {},
   "source": [
    "### Explanation:"
   ]
  },
  {
   "cell_type": "markdown",
   "id": "c381f93c-2d33-44ea-9413-34bf7c86f95f",
   "metadata": {},
   "source": [
    "#### The list comprehension iterates over each element 'x' in the 'numbers' list."
   ]
  },
  {
   "cell_type": "markdown",
   "id": "868b65bc-02eb-4649-a871-9cab58e73338",
   "metadata": {},
   "source": [
    "#### The condition 'if x % 2 == 0' checks if the number is even."
   ]
  },
  {
   "cell_type": "markdown",
   "id": "0491fb5d-52e4-47dd-ae5e-c082c63b2f51",
   "metadata": {},
   "source": [
    "#### Only the even numbers are included in the resulting list."
   ]
  },
  {
   "cell_type": "markdown",
   "id": "b98a679c-a095-4a95-9e17-db34ce56624b",
   "metadata": {},
   "source": [
    "### Second Example: Converting Strings to Uppercase"
   ]
  },
  {
   "cell_type": "markdown",
   "id": "7595719e-1929-4a3c-b2c4-a5d9966510f8",
   "metadata": {},
   "source": [
    "#### Suppose we have a list of words and we want to convert all of them to uppercase."
   ]
  },
  {
   "cell_type": "code",
   "execution_count": 30,
   "id": "36bdbe18-fb6b-4ea8-bb0f-9615428e13aa",
   "metadata": {},
   "outputs": [
    {
     "name": "stdout",
     "output_type": "stream",
     "text": [
      "['DOG', 'TOY', 'DBEAVER', 'IS', 'COOL']\n"
     ]
    }
   ],
   "source": [
    "# Original list of words\n",
    "words = [\"dog\", \"toy\", \"dbeaver\", \"is\", \"cool\"]\n",
    "\n",
    "# Using list comprehension to convert each word to uppercase\n",
    "uppercase_words = [word.upper() for word in words]\n",
    "print(uppercase_words)\n"
   ]
  },
  {
   "cell_type": "markdown",
   "id": "4071dd39-ae69-4c38-8d72-336b821df192",
   "metadata": {},
   "source": [
    "#### Explanation:"
   ]
  },
  {
   "cell_type": "markdown",
   "id": "bc870932-9ba5-4e36-898b-acbc2110e9de",
   "metadata": {},
   "source": [
    "#### The list comprehension iterates over each word in the 'words' list."
   ]
  },
  {
   "cell_type": "markdown",
   "id": "613f247c-1cf6-451f-9f3e-6272f9e272f5",
   "metadata": {},
   "source": [
    "#### The expression 'word.upper()' converts each word to uppercase."
   ]
  },
  {
   "cell_type": "markdown",
   "id": "96b5863d-3c37-452e-b9dd-4557e6b2cbe2",
   "metadata": {},
   "source": [
    "#### The resulting list contains all the words in uppercase."
   ]
  },
  {
   "cell_type": "markdown",
   "id": "34853686-f322-4079-bbca-715cb9b0464c",
   "metadata": {},
   "source": [
    "### Third Example: Squaring Numbers in a List"
   ]
  },
  {
   "cell_type": "markdown",
   "id": "ed9928cb-31be-45ac-b171-071d84123b66",
   "metadata": {},
   "source": [
    "#### Suppose we want to create a list containing the squares of numbers from 0 to 9."
   ]
  },
  {
   "cell_type": "code",
   "execution_count": 44,
   "id": "75a22ac6-8614-4b27-843f-44077c12baed",
   "metadata": {},
   "outputs": [
    {
     "name": "stdout",
     "output_type": "stream",
     "text": [
      "[0, 1, 4, 9, 16, 25, 36, 49, 64, 81]\n"
     ]
    }
   ],
   "source": [
    "# Using list comprehension to create a list of squares\n",
    "squares = [x**2 for x in range(10)]\n",
    "print(squares)\n"
   ]
  },
  {
   "cell_type": "markdown",
   "id": "8f3192ce-ace9-46f9-9bf6-4209933e7a5f",
   "metadata": {},
   "source": [
    "#### Explanation:"
   ]
  },
  {
   "cell_type": "markdown",
   "id": "cfcb8bb5-276a-4954-b8c4-e7820a2894d3",
   "metadata": {},
   "source": [
    "#### The 'range(10)' generates numbers from 0 to 9."
   ]
  },
  {
   "cell_type": "markdown",
   "id": "eb4db734-e9e7-4e0f-8029-99173d778f76",
   "metadata": {},
   "source": [
    "#### The expression 'x**2' computes the square of each number."
   ]
  },
  {
   "cell_type": "markdown",
   "id": "1ff0b4ef-b16d-45a3-88d8-71cec58d4534",
   "metadata": {},
   "source": [
    "#### The resulting list contains the squares of all numbers from 0 to 9."
   ]
  },
  {
   "cell_type": "markdown",
   "id": "0908a19e-0933-4052-9e85-fb7d67c95d96",
   "metadata": {},
   "source": [
    "# Q3 Explain what a compound datatype is in Python with three examples."
   ]
  },
  {
   "cell_type": "markdown",
   "id": "27cf8abd-1340-4ef2-b746-548cd20f2e81",
   "metadata": {},
   "source": [
    "### A compound data type in Python is a data structure that combines multiple values of different types into a single entity. This allows you to group related data together, making your code more organized and easier to work with. In Python, compound data types are often implemented using classes or dictionaries."
   ]
  },
  {
   "cell_type": "markdown",
   "id": "b16823c9-3eee-4767-9a0a-6e8dea0ebc86",
   "metadata": {},
   "source": [
    "## Examples of Compound Datatypes in Python"
   ]
  },
  {
   "cell_type": "markdown",
   "id": "fda00660-7590-4fe6-9e47-b005d1dd4c85",
   "metadata": {},
   "source": [
    "### a) List"
   ]
  },
  {
   "cell_type": "markdown",
   "id": "bb3b897b-79e2-4059-9e16-67eadc4a7607",
   "metadata": {},
   "source": [
    "#### A list is an ordered, mutable (modifiable) collection of elements. Lists can contain elements of different types, such as integers, strings, or even other lists."
   ]
  },
  {
   "cell_type": "code",
   "execution_count": 66,
   "id": "d5a1da8d-8b60-4e12-b95b-a28e4b1316c5",
   "metadata": {},
   "outputs": [
    {
     "name": "stdout",
     "output_type": "stream",
     "text": [
      "['abel', 'born', 'charity', 'doreen']\n",
      "['abel', 'born', 'jemutai', 'doreen']\n",
      "[1, 'hello', 3.14, True]\n"
     ]
    }
   ],
   "source": [
    "# Example of a list\n",
    "names = [\"abel\", \"born\", \"charity\", \"doreen\"]\n",
    "print(names) \n",
    "\n",
    "# Lists are mutable, meaning you can modify their elements\n",
    "names[2] = \"jemutai\"\n",
    "print(names) \n",
    "\n",
    "# Lists can also contain different data types\n",
    "mixed_list = [1, \"hello\", 3.14, True]\n",
    "print(mixed_list) \n"
   ]
  },
  {
   "cell_type": "markdown",
   "id": "9b6f48db-05d4-4142-aaac-9d163c54a6cf",
   "metadata": {},
   "source": [
    "### b) Dictionary"
   ]
  },
  {
   "cell_type": "markdown",
   "id": "5be81f62-fa6e-40a2-85e4-5ac86a20cf60",
   "metadata": {},
   "source": [
    "#### A dictionary is an unordered collection of key-value pairs. Each key-value pair maps the key to its corresponding value. Dictionaries are useful for storing data that is associated with unique keys."
   ]
  },
  {
   "cell_type": "code",
   "execution_count": 74,
   "id": "77fb9213-1ad2-4733-86db-f1c708accd1d",
   "metadata": {},
   "outputs": [
    {
     "name": "stdout",
     "output_type": "stream",
     "text": [
      "{'name': 'Allan', 'age': 20, 'city': 'Nairobi'}\n",
      "Allan\n",
      "{'name': 'Allan', 'age': 20, 'city': 'Nairobi', 'email': 'allan@gmail.com'}\n",
      "{'name': 'Allan', 'age': 29, 'city': 'Nairobi', 'email': 'allan@gmail.com'}\n"
     ]
    }
   ],
   "source": [
    "# Example of a dictionary\n",
    "person = {\n",
    "    \"name\": \"Allan\",\n",
    "    \"age\": 20,\n",
    "    \"city\": \"Nairobi\"\n",
    "}\n",
    "print(person) \n",
    "\n",
    "# Accessing values using keys\n",
    "print(person[\"name\"]) \n",
    "\n",
    "# Adding a new key-value pair\n",
    "person[\"email\"] = \"allan@gmail.com\"\n",
    "print(person) \n",
    "\n",
    "# Modifying an existing value\n",
    "person[\"age\"] = 29\n",
    "print(person)\n"
   ]
  },
  {
   "cell_type": "markdown",
   "id": "88b6dfc7-802a-44bb-9c04-71d82fa63f8e",
   "metadata": {},
   "source": [
    "### c) Tuple"
   ]
  },
  {
   "cell_type": "markdown",
   "id": "e9e96917-5120-4860-9740-1608974363f6",
   "metadata": {},
   "source": [
    "#### A tuple is similar to a list, but it is immutable, meaning that once a tuple is created, its elements cannot be changed. Tuples are typically used to store a collection of items that should not be modified throughout the program."
   ]
  },
  {
   "cell_type": "code",
   "execution_count": 80,
   "id": "348dbf89-7322-4b84-90bc-eed50ecdb9d7",
   "metadata": {},
   "outputs": [
    {
     "name": "stdout",
     "output_type": "stream",
     "text": [
      "(10.0, 20.0)\n",
      "(1, 'hello', 3.14, True)\n"
     ]
    }
   ],
   "source": [
    "# Example of a tuple\n",
    "coordinates = (10.0, 20.0)\n",
    "print(coordinates)\n",
    "\n",
    "# Trying to modify a tuple will raise an error\n",
    "# coordinates[0] = 15.0  # This will raise a TypeError\n",
    "\n",
    "# Tuples can contain elements of different types\n",
    "mixed_tuple = (1, \"hello\", 3.14, True)\n",
    "print(mixed_tuple)\n"
   ]
  },
  {
   "cell_type": "markdown",
   "id": "3328af7b-07e6-4d53-8ed3-1a1ee66b14a2",
   "metadata": {},
   "source": [
    "# Q4 Write a function that takes a string and returns a list of bigrams."
   ]
  },
  {
   "cell_type": "markdown",
   "id": "06565793-830b-4529-a27e-1aece0f1b71b",
   "metadata": {},
   "source": [
    "### A bigram is a contiguous sequence of two items from a given sample of text. In the context of strings, a bigram refers to a pair of consecutive characters or words."
   ]
  },
  {
   "cell_type": "code",
   "execution_count": 84,
   "id": "52fd0998-f1af-4558-bcc2-6fd33c4548ef",
   "metadata": {},
   "outputs": [
    {
     "name": "stdout",
     "output_type": "stream",
     "text": [
      "['he', 'el', 'll', 'lo']\n"
     ]
    }
   ],
   "source": [
    "def generate_character_bigrams(input_string):\n",
    "    # Remove any leading/trailing whitespace and ensure the input is not empty\n",
    "    input_string = input_string.strip()\n",
    "    if len(input_string) < 2:\n",
    "        return []  # Return an empty list if the input is too short to form any bigrams\n",
    "\n",
    "    bigrams = [input_string[i:i+2] for i in range(len(input_string) - 1)]\n",
    "    return bigrams\n",
    "\n",
    "# Example usage\n",
    "text = \"hello\"\n",
    "character_bigrams = generate_character_bigrams(text)\n",
    "print(character_bigrams)  # Output: ['he', 'el', 'll', 'lo']\n"
   ]
  },
  {
   "cell_type": "markdown",
   "id": "d0b5a753-9aca-43ac-942e-8f3fed4e04fa",
   "metadata": {},
   "source": [
    "# Q5 Given a dictionary with keys as letters and values as lists of letters, write a function closest_key to find the key with the input value closest to the beginning of the list."
   ]
  },
  {
   "cell_type": "markdown",
   "id": "9392f6a9-39e0-45d5-9e30-077123e4b88d",
   "metadata": {},
   "source": [
    "### Write a function 'closest_key' that takes two inputs: a dictionary where the keys are letters and the values are lists of letters, and a target letter. The function should return the key corresponding to the list where the target letter appears closest to the beginning."
   ]
  },
  {
   "cell_type": "code",
   "execution_count": 89,
   "id": "216a6ff0-73c2-4d5d-91a6-5b563d5501b2",
   "metadata": {},
   "outputs": [
    {
     "name": "stdout",
     "output_type": "stream",
     "text": [
      "a\n",
      "b\n",
      "c\n"
     ]
    }
   ],
   "source": [
    "def closest_key(d, target):\n",
    "    closest = None\n",
    "    min_index = float('inf')  # Start with infinity to find the minimum index\n",
    "\n",
    "    # Iterate through each key-value pair in the dictionary\n",
    "    for key, value_list in d.items():\n",
    "        if target in value_list:  # Check if target is in the current list\n",
    "            index = value_list.index(target)  # Find the index of target in the list\n",
    "\n",
    "            # If the current index is smaller than the previously found index\n",
    "            if index < min_index:\n",
    "                min_index = index\n",
    "                closest = key  # Update the closest key\n",
    "\n",
    "    return closest\n",
    "\n",
    "# Example usage\n",
    "example_dict = {\n",
    "    'a': ['x', 'y', 'z'],\n",
    "    'b': ['y', 'z', 'x'],\n",
    "    'c': ['z', 'x', 'y'],\n",
    "}\n",
    "\n",
    "print(closest_key(example_dict, 'x'))  # Output: 'a'\n",
    "print(closest_key(example_dict, 'y'))  # Output: 'a'\n",
    "print(closest_key(example_dict, 'z'))  # Output: 'a'\n"
   ]
  },
  {
   "cell_type": "code",
   "execution_count": null,
   "id": "1e679baa-8a76-4227-81c0-872511b2716c",
   "metadata": {},
   "outputs": [],
   "source": []
  }
 ],
 "metadata": {
  "kernelspec": {
   "display_name": "Python 3 (ipykernel)",
   "language": "python",
   "name": "python3"
  },
  "language_info": {
   "codemirror_mode": {
    "name": "ipython",
    "version": 3
   },
   "file_extension": ".py",
   "mimetype": "text/x-python",
   "name": "python",
   "nbconvert_exporter": "python",
   "pygments_lexer": "ipython3",
   "version": "3.12.4"
  }
 },
 "nbformat": 4,
 "nbformat_minor": 5
}
